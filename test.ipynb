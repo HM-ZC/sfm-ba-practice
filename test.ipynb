{
 "cells": [
  {
   "cell_type": "code",
   "execution_count": 1,
   "id": "7068e5ba",
   "metadata": {},
   "outputs": [],
   "source": [
    "import numpy as np"
   ]
  },
  {
   "cell_type": "code",
   "execution_count": 123,
   "id": "global-switzerland",
   "metadata": {},
   "outputs": [],
   "source": [
    "points2d = np.array([[1, 1], [2, 2], [3, 3], [4, 4], [5, 5], [6, 6]])"
   ]
  },
  {
   "cell_type": "code",
   "execution_count": 124,
   "id": "interested-packaging",
   "metadata": {},
   "outputs": [],
   "source": [
    "points3d = np.array([[1, 1, 1], [2, 2, 2], [3, 3, 3]])"
   ]
  },
  {
   "cell_type": "code",
   "execution_count": 125,
   "id": "annual-probe",
   "metadata": {},
   "outputs": [],
   "source": [
    "points3d_idxs = np.array([0, 0, 1])"
   ]
  },
  {
   "cell_type": "code",
   "execution_count": 126,
   "id": "inappropriate-harbor",
   "metadata": {},
   "outputs": [],
   "source": [
    "camera_idxs = np.array([0, 1, 2])"
   ]
  },
  {
   "cell_type": "code",
   "execution_count": 127,
   "id": "electric-joyce",
   "metadata": {},
   "outputs": [],
   "source": [
    "P = np.arange(72).reshape((6, 3, 4))"
   ]
  },
  {
   "cell_type": "code",
   "execution_count": 128,
   "id": "macro-juice",
   "metadata": {},
   "outputs": [],
   "source": [
    "selected_points3d = points3d[points3d_idxs]"
   ]
  },
  {
   "cell_type": "code",
   "execution_count": 129,
   "id": "favorite-customer",
   "metadata": {},
   "outputs": [
    {
     "name": "stdout",
     "output_type": "stream",
     "text": [
      "[[1 1 1]\n",
      " [1 1 1]\n",
      " [2 2 2]]\n"
     ]
    }
   ],
   "source": [
    "print(selected_points3d)"
   ]
  },
  {
   "cell_type": "code",
   "execution_count": 130,
   "id": "involved-geometry",
   "metadata": {},
   "outputs": [
    {
     "name": "stdout",
     "output_type": "stream",
     "text": [
      "[[[ 0  1  2  3]\n",
      "  [ 4  5  6  7]\n",
      "  [ 8  9 10 11]]\n",
      "\n",
      " [[12 13 14 15]\n",
      "  [16 17 18 19]\n",
      "  [20 21 22 23]]\n",
      "\n",
      " [[24 25 26 27]\n",
      "  [28 29 30 31]\n",
      "  [32 33 34 35]]\n",
      "\n",
      " [[36 37 38 39]\n",
      "  [40 41 42 43]\n",
      "  [44 45 46 47]]\n",
      "\n",
      " [[48 49 50 51]\n",
      "  [52 53 54 55]\n",
      "  [56 57 58 59]]\n",
      "\n",
      " [[60 61 62 63]\n",
      "  [64 65 66 67]\n",
      "  [68 69 70 71]]]\n"
     ]
    }
   ],
   "source": [
    "print(P)"
   ]
  },
  {
   "cell_type": "code",
   "execution_count": 131,
   "id": "recreational-shock",
   "metadata": {},
   "outputs": [],
   "source": [
    "homo_3d_points = np.concatenate((selected_points3d, np.ones((selected_points3d.shape[0], 1))), axis=1)\n",
    "homo_3d_points_T = np.transpose(homo_3d_points)"
   ]
  },
  {
   "cell_type": "code",
   "execution_count": 132,
   "id": "recognized-bankruptcy",
   "metadata": {},
   "outputs": [
    {
     "data": {
      "text/plain": [
       "array([[1., 1., 2.],\n",
       "       [1., 1., 2.],\n",
       "       [1., 1., 2.],\n",
       "       [1., 1., 1.]])"
      ]
     },
     "execution_count": 132,
     "metadata": {},
     "output_type": "execute_result"
    }
   ],
   "source": [
    "homo_3d_points_T"
   ]
  },
  {
   "cell_type": "code",
   "execution_count": 133,
   "id": "backed-powder",
   "metadata": {},
   "outputs": [
    {
     "name": "stdout",
     "output_type": "stream",
     "text": [
      "[[[  6.   6.   9.]\n",
      "  [ 22.  22.  37.]\n",
      "  [ 38.  38.  65.]]\n",
      "\n",
      " [[ 54.  54.  93.]\n",
      "  [ 70.  70. 121.]\n",
      "  [ 86.  86. 149.]]\n",
      "\n",
      " [[102. 102. 177.]\n",
      "  [118. 118. 205.]\n",
      "  [134. 134. 233.]]\n",
      "\n",
      " [[150. 150. 261.]\n",
      "  [166. 166. 289.]\n",
      "  [182. 182. 317.]]\n",
      "\n",
      " [[198. 198. 345.]\n",
      "  [214. 214. 373.]\n",
      "  [230. 230. 401.]]\n",
      "\n",
      " [[246. 246. 429.]\n",
      "  [262. 262. 457.]\n",
      "  [278. 278. 485.]]]\n"
     ]
    }
   ],
   "source": [
    "calculated_points2d = np.matmul(P, homo_3d_points_T)\n",
    "print(calculated_points2d)"
   ]
  },
  {
   "cell_type": "code",
   "execution_count": 121,
   "id": "ultimate-marathon",
   "metadata": {},
   "outputs": [
    {
     "name": "stdout",
     "output_type": "stream",
     "text": [
      "[[  6.  22.  38.]\n",
      " [ 54.  70.  86.]\n",
      " [102. 118. 134.]\n",
      " [  6.  22.  38.]\n",
      " [ 93. 121. 149.]\n",
      " [177. 205. 233.]]\n",
      "(6, 3)\n"
     ]
    }
   ],
   "source": [
    "calculated_points2d = calculated_points2d[camera_idxs, :, points3d_idxs]\n",
    "print(calculated_points2d)\n",
    "print(calculated_points2d.shape)\n",
    "calculated_points2d /= calculated_points2d[:, -1].reshape((calculated_points2d.shape[0], 1))\n",
    "calculated_points2d = calculated_points2d[:, :-1]"
   ]
  },
  {
   "cell_type": "code",
   "execution_count": 122,
   "id": "forbidden-comparative",
   "metadata": {},
   "outputs": [
    {
     "name": "stdout",
     "output_type": "stream",
     "text": [
      "[[0.15789474 0.57894737]\n",
      " [0.62790698 0.81395349]\n",
      " [0.76119403 0.88059701]\n",
      " [0.15789474 0.57894737]\n",
      " [0.62416107 0.81208054]\n",
      " [0.75965665 0.87982833]]\n"
     ]
    }
   ],
   "source": [
    "print(calculated_points2d)"
   ]
  },
  {
   "cell_type": "code",
   "execution_count": 94,
   "id": "identical-synthetic",
   "metadata": {},
   "outputs": [
    {
     "name": "stdout",
     "output_type": "stream",
     "text": [
      "calculated_points2d= [0.15789474 0.57894737]\n",
      "camera_idxs[0]= 0\n",
      "camera = [[ 0  1  2  3]\n",
      " [ 4  5  6  7]\n",
      " [ 8  9 10 11]]\n",
      "points3d[0]= [2 2 2]\n",
      "point2d= [4 4]\n"
     ]
    }
   ],
   "source": [
    "i = 3\n",
    "print(\"calculated_points2d=\", calculated_points2d[i])\n",
    "print(\"camera_idxs[0]=\", camera_idxs[i])\n",
    "print(\"camera =\", P[camera_idxs[i]])\n",
    "print(\"points3d[0]=\", points3d[points3d_idxs[i]])\n",
    "\n",
    "print(\"point2d=\", points2d[i])"
   ]
  },
  {
   "cell_type": "code",
   "execution_count": 160,
   "id": "widespread-shoot",
   "metadata": {},
   "outputs": [],
   "source": [
    "a = np.arange(1200).reshape((100, 3, 4))"
   ]
  },
  {
   "cell_type": "code",
   "execution_count": 161,
   "id": "convenient-marketing",
   "metadata": {},
   "outputs": [],
   "source": [
    "b = np.arange(400).reshape((4, 100))"
   ]
  },
  {
   "cell_type": "code",
   "execution_count": 162,
   "id": "chemical-baptist",
   "metadata": {},
   "outputs": [
    {
     "data": {
      "text/plain": [
       "array([[   1400,    3800,    6200],\n",
       "       [   8654,   11070,   13486],\n",
       "       [  16004,   18436,   20868],\n",
       "       [  23450,   25898,   28346],\n",
       "       [  30992,   33456,   35920],\n",
       "       [  38630,   41110,   43590],\n",
       "       [  46364,   48860,   51356],\n",
       "       [  54194,   56706,   59218],\n",
       "       [  62120,   64648,   67176],\n",
       "       [  70142,   72686,   75230],\n",
       "       [  78260,   80820,   83380],\n",
       "       [  86474,   89050,   91626],\n",
       "       [  94784,   97376,   99968],\n",
       "       [ 103190,  105798,  108406],\n",
       "       [ 111692,  114316,  116940],\n",
       "       [ 120290,  122930,  125570],\n",
       "       [ 128984,  131640,  134296],\n",
       "       [ 137774,  140446,  143118],\n",
       "       [ 146660,  149348,  152036],\n",
       "       [ 155642,  158346,  161050],\n",
       "       [ 164720,  167440,  170160],\n",
       "       [ 173894,  176630,  179366],\n",
       "       [ 183164,  185916,  188668],\n",
       "       [ 192530,  195298,  198066],\n",
       "       [ 201992,  204776,  207560],\n",
       "       [ 211550,  214350,  217150],\n",
       "       [ 221204,  224020,  226836],\n",
       "       [ 230954,  233786,  236618],\n",
       "       [ 240800,  243648,  246496],\n",
       "       [ 250742,  253606,  256470],\n",
       "       [ 260780,  263660,  266540],\n",
       "       [ 270914,  273810,  276706],\n",
       "       [ 281144,  284056,  286968],\n",
       "       [ 291470,  294398,  297326],\n",
       "       [ 301892,  304836,  307780],\n",
       "       [ 312410,  315370,  318330],\n",
       "       [ 323024,  326000,  328976],\n",
       "       [ 333734,  336726,  339718],\n",
       "       [ 344540,  347548,  350556],\n",
       "       [ 355442,  358466,  361490],\n",
       "       [ 366440,  369480,  372520],\n",
       "       [ 377534,  380590,  383646],\n",
       "       [ 388724,  391796,  394868],\n",
       "       [ 400010,  403098,  406186],\n",
       "       [ 411392,  414496,  417600],\n",
       "       [ 422870,  425990,  429110],\n",
       "       [ 434444,  437580,  440716],\n",
       "       [ 446114,  449266,  452418],\n",
       "       [ 457880,  461048,  464216],\n",
       "       [ 469742,  472926,  476110],\n",
       "       [ 481700,  484900,  488100],\n",
       "       [ 493754,  496970,  500186],\n",
       "       [ 505904,  509136,  512368],\n",
       "       [ 518150,  521398,  524646],\n",
       "       [ 530492,  533756,  537020],\n",
       "       [ 542930,  546210,  549490],\n",
       "       [ 555464,  558760,  562056],\n",
       "       [ 568094,  571406,  574718],\n",
       "       [ 580820,  584148,  587476],\n",
       "       [ 593642,  596986,  600330],\n",
       "       [ 606560,  609920,  613280],\n",
       "       [ 619574,  622950,  626326],\n",
       "       [ 632684,  636076,  639468],\n",
       "       [ 645890,  649298,  652706],\n",
       "       [ 659192,  662616,  666040],\n",
       "       [ 672590,  676030,  679470],\n",
       "       [ 686084,  689540,  692996],\n",
       "       [ 699674,  703146,  706618],\n",
       "       [ 713360,  716848,  720336],\n",
       "       [ 727142,  730646,  734150],\n",
       "       [ 741020,  744540,  748060],\n",
       "       [ 754994,  758530,  762066],\n",
       "       [ 769064,  772616,  776168],\n",
       "       [ 783230,  786798,  790366],\n",
       "       [ 797492,  801076,  804660],\n",
       "       [ 811850,  815450,  819050],\n",
       "       [ 826304,  829920,  833536],\n",
       "       [ 840854,  844486,  848118],\n",
       "       [ 855500,  859148,  862796],\n",
       "       [ 870242,  873906,  877570],\n",
       "       [ 885080,  888760,  892440],\n",
       "       [ 900014,  903710,  907406],\n",
       "       [ 915044,  918756,  922468],\n",
       "       [ 930170,  933898,  937626],\n",
       "       [ 945392,  949136,  952880],\n",
       "       [ 960710,  964470,  968230],\n",
       "       [ 976124,  979900,  983676],\n",
       "       [ 991634,  995426,  999218],\n",
       "       [1007240, 1011048, 1014856],\n",
       "       [1022942, 1026766, 1030590],\n",
       "       [1038740, 1042580, 1046420],\n",
       "       [1054634, 1058490, 1062346],\n",
       "       [1070624, 1074496, 1078368],\n",
       "       [1086710, 1090598, 1094486],\n",
       "       [1102892, 1106796, 1110700],\n",
       "       [1119170, 1123090, 1127010],\n",
       "       [1135544, 1139480, 1143416],\n",
       "       [1152014, 1155966, 1159918],\n",
       "       [1168580, 1172548, 1176516],\n",
       "       [1185242, 1189226, 1193210]])"
      ]
     },
     "execution_count": 162,
     "metadata": {},
     "output_type": "execute_result"
    }
   ],
   "source": [
    "np.einsum('ijk,ki->ij',a,b)"
   ]
  },
  {
   "cell_type": "code",
   "execution_count": 155,
   "id": "secondary-geology",
   "metadata": {},
   "outputs": [
    {
     "data": {
      "text/plain": [
       "array([[[ 0,  1,  2,  3],\n",
       "        [ 4,  5,  6,  7],\n",
       "        [ 8,  9, 10, 11]],\n",
       "\n",
       "       [[12, 13, 14, 15],\n",
       "        [16, 17, 18, 19],\n",
       "        [20, 21, 22, 23]]])"
      ]
     },
     "execution_count": 155,
     "metadata": {},
     "output_type": "execute_result"
    }
   ],
   "source": [
    "a"
   ]
  },
  {
   "cell_type": "code",
   "execution_count": 156,
   "id": "egyptian-nashville",
   "metadata": {},
   "outputs": [
    {
     "data": {
      "text/plain": [
       "array([[0, 1],\n",
       "       [2, 3],\n",
       "       [4, 5],\n",
       "       [6, 7]])"
      ]
     },
     "execution_count": 156,
     "metadata": {},
     "output_type": "execute_result"
    }
   ],
   "source": [
    "b"
   ]
  },
  {
   "cell_type": "code",
   "execution_count": null,
   "id": "efficient-export",
   "metadata": {},
   "outputs": [],
   "source": []
  }
 ],
 "metadata": {
  "kernelspec": {
   "display_name": "Python 3",
   "language": "python",
   "name": "python3"
  },
  "language_info": {
   "codemirror_mode": {
    "name": "ipython",
    "version": 3
   },
   "file_extension": ".py",
   "mimetype": "text/x-python",
   "name": "python",
   "nbconvert_exporter": "python",
   "pygments_lexer": "ipython3",
   "version": "3.7.6"
  }
 },
 "nbformat": 4,
 "nbformat_minor": 5
}
